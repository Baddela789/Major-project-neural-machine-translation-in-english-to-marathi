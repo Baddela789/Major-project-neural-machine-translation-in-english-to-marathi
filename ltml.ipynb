{
 "cells": [
  {
   "cell_type": "code",
   "execution_count": 13,
   "metadata": {},
   "outputs": [
    {
     "name": "stdout",
     "output_type": "stream",
     "text": [
      "\u001b[33mDEPRECATION: Python 2.7 reached the end of its life on January 1st, 2020. Please upgrade your Python as Python 2.7 is no longer maintained. pip 21.0 will drop support for Python 2.7 in January 2021. More details about Python 2 support in pip can be found at https://pip.pypa.io/en/latest/development/release-process/#python-2-support pip 21.0 will remove support for this functionality.\u001b[0m\n",
      "Defaulting to user installation because normal site-packages is not writeable\n",
      "Requirement already satisfied: pydot in /home/rgukt/.local/lib/python2.7/site-packages (1.4.2)\n",
      "Requirement already satisfied: pyparsing>=2.1.4 in /home/rgukt/.local/lib/python2.7/site-packages (from pydot) (2.4.7)\n"
     ]
    }
   ],
   "source": [
    "!pip install pydot"
   ]
  },
  {
   "cell_type": "code",
   "execution_count": 14,
   "metadata": {},
   "outputs": [
    {
     "name": "stdout",
     "output_type": "stream",
     "text": [
      "\u001b[33mDEPRECATION: Python 2.7 reached the end of its life on January 1st, 2020. Please upgrade your Python as Python 2.7 is no longer maintained. pip 21.0 will drop support for Python 2.7 in January 2021. More details about Python 2 support in pip can be found at https://pip.pypa.io/en/latest/development/release-process/#python-2-support pip 21.0 will remove support for this functionality.\u001b[0m\n",
      "Defaulting to user installation because normal site-packages is not writeable\n",
      "Requirement already satisfied: pydot_ng in /home/rgukt/.local/lib/python2.7/site-packages (2.0.0)\n",
      "Requirement already satisfied: pyparsing>=2.0.1 in /home/rgukt/.local/lib/python2.7/site-packages (from pydot_ng) (2.4.7)\n"
     ]
    }
   ],
   "source": [
    "!pip install pydot_ng"
   ]
  },
  {
   "cell_type": "code",
   "execution_count": 15,
   "metadata": {},
   "outputs": [
    {
     "name": "stdout",
     "output_type": "stream",
     "text": [
      "\u001b[33mDEPRECATION: Python 2.7 reached the end of its life on January 1st, 2020. Please upgrade your Python as Python 2.7 is no longer maintained. pip 21.0 will drop support for Python 2.7 in January 2021. More details about Python 2 support in pip can be found at https://pip.pypa.io/en/latest/development/release-process/#python-2-support pip 21.0 will remove support for this functionality.\u001b[0m\n",
      "Defaulting to user installation because normal site-packages is not writeable\n",
      "Requirement already satisfied: graphviz in /home/rgukt/.local/lib/python2.7/site-packages (0.16)\n"
     ]
    }
   ],
   "source": [
    "!pip install graphviz"
   ]
  },
  {
   "cell_type": "code",
   "execution_count": 16,
   "metadata": {},
   "outputs": [
    {
     "name": "stdout",
     "output_type": "stream",
     "text": [
      "\u001b[33mDEPRECATION: Python 2.7 reached the end of its life on January 1st, 2020. Please upgrade your Python as Python 2.7 is no longer maintained. pip 21.0 will drop support for Python 2.7 in January 2021. More details about Python 2 support in pip can be found at https://pip.pypa.io/en/latest/development/release-process/#python-2-support pip 21.0 will remove support for this functionality.\u001b[0m\n",
      "Defaulting to user installation because normal site-packages is not writeable\n",
      "Requirement already satisfied: graphviz in /home/rgukt/.local/lib/python2.7/site-packages (0.16)\n"
     ]
    }
   ],
   "source": [
    "!pip install graphviz"
   ]
  },
  {
   "cell_type": "code",
   "execution_count": 17,
   "metadata": {},
   "outputs": [
    {
     "name": "stdout",
     "output_type": "stream",
     "text": [
      "\u001b[33mDEPRECATION: Python 2.7 reached the end of its life on January 1st, 2020. Please upgrade your Python as Python 2.7 is no longer maintained. pip 21.0 will drop support for Python 2.7 in January 2021. More details about Python 2 support in pip can be found at https://pip.pypa.io/en/latest/development/release-process/#python-2-support pip 21.0 will remove support for this functionality.\u001b[0m\n",
      "Defaulting to user installation because normal site-packages is not writeable\n",
      "\u001b[33mWARNING: Retrying (Retry(total=4, connect=None, read=None, redirect=None, status=None)) after connection broken by 'NewConnectionError('<pip._vendor.urllib3.connection.HTTPSConnection object at 0x7fe5edbd48d0>: Failed to establish a new connection: [Errno -2] Name or service not known',)': /simple/pip/\u001b[0m\n",
      "\u001b[33mWARNING: Retrying (Retry(total=3, connect=None, read=None, redirect=None, status=None)) after connection broken by 'NewConnectionError('<pip._vendor.urllib3.connection.HTTPSConnection object at 0x7fe5edbd4c50>: Failed to establish a new connection: [Errno -2] Name or service not known',)': /simple/pip/\u001b[0m\n",
      "\u001b[33mWARNING: Retrying (Retry(total=2, connect=None, read=None, redirect=None, status=None)) after connection broken by 'NewConnectionError('<pip._vendor.urllib3.connection.HTTPSConnection object at 0x7fe5edbd4f90>: Failed to establish a new connection: [Errno -2] Name or service not known',)': /simple/pip/\u001b[0m\n",
      "\u001b[33mWARNING: Retrying (Retry(total=1, connect=None, read=None, redirect=None, status=None)) after connection broken by 'NewConnectionError('<pip._vendor.urllib3.connection.HTTPSConnection object at 0x7fe5edb66310>: Failed to establish a new connection: [Errno -2] Name or service not known',)': /simple/pip/\u001b[0m\n",
      "\u001b[33mWARNING: Retrying (Retry(total=0, connect=None, read=None, redirect=None, status=None)) after connection broken by 'NewConnectionError('<pip._vendor.urllib3.connection.HTTPSConnection object at 0x7fe5edb66650>: Failed to establish a new connection: [Errno -2] Name or service not known',)': /simple/pip/\u001b[0m\n",
      "Requirement already up-to-date: pip in /home/rgukt/.local/lib/python2.7/site-packages (20.3.4)\n"
     ]
    }
   ],
   "source": [
    "!pip install --upgrade pip"
   ]
  },
  {
   "cell_type": "code",
   "execution_count": 18,
   "metadata": {},
   "outputs": [
    {
     "name": "stdout",
     "output_type": "stream",
     "text": [
      "\u001b[33mDEPRECATION: Python 2.7 reached the end of its life on January 1st, 2020. Please upgrade your Python as Python 2.7 is no longer maintained. pip 21.0 will drop support for Python 2.7 in January 2021. More details about Python 2 support in pip can be found at https://pip.pypa.io/en/latest/development/release-process/#python-2-support pip 21.0 will remove support for this functionality.\u001b[0m\n",
      "Defaulting to user installation because normal site-packages is not writeable\n",
      "Requirement already satisfied: pydot in /home/rgukt/.local/lib/python2.7/site-packages (1.4.2)\n",
      "Requirement already satisfied: pyparsing>=2.1.4 in /home/rgukt/.local/lib/python2.7/site-packages (from pydot) (2.4.7)\n"
     ]
    }
   ],
   "source": [
    "!pip install pydot"
   ]
  },
  {
   "cell_type": "code",
   "execution_count": 19,
   "metadata": {
    "scrolled": true
   },
   "outputs": [
    {
     "name": "stdout",
     "output_type": "stream",
     "text": [
      "\u001b[33mDEPRECATION: Python 2.7 reached the end of its life on January 1st, 2020. Please upgrade your Python as Python 2.7 is no longer maintained. pip 21.0 will drop support for Python 2.7 in January 2021. More details about Python 2 support in pip can be found at https://pip.pypa.io/en/latest/development/release-process/#python-2-support pip 21.0 will remove support for this functionality.\u001b[0m\n",
      "Defaulting to user installation because normal site-packages is not writeable\n",
      "Requirement already satisfied: graphviz in /home/rgukt/.local/lib/python2.7/site-packages (0.16)\n"
     ]
    }
   ],
   "source": [
    "!pip install graphviz"
   ]
  },
  {
   "cell_type": "code",
   "execution_count": 1,
   "metadata": {},
   "outputs": [
    {
     "name": "stdout",
     "output_type": "stream",
     "text": [
      "\u001b[33mDEPRECATION: Python 2.7 reached the end of its life on January 1st, 2020. Please upgrade your Python as Python 2.7 is no longer maintained. pip 21.0 will drop support for Python 2.7 in January 2021. More details about Python 2 support in pip can be found at https://pip.pypa.io/en/latest/development/release-process/#python-2-support pip 21.0 will remove support for this functionality.\u001b[0m\n",
      "Defaulting to user installation because normal site-packages is not writeable\n",
      "Collecting tensorflow-cpu\n",
      "  Downloading tensorflow_cpu-2.1.0-cp27-cp27mu-manylinux2010_x86_64.whl (104.6 MB)\n",
      "\u001b[K     |████████████████████████████████| 104.6 MB 42 kB/s  eta 0:00:01\n",
      "\u001b[?25hRequirement already satisfied: numpy<2.0,>=1.16.0 in /home/rgukt/.local/lib/python2.7/site-packages (from tensorflow-cpu) (1.16.6)\n",
      "Requirement already satisfied: opt-einsum>=2.3.2 in /home/rgukt/.local/lib/python2.7/site-packages (from tensorflow-cpu) (2.3.2)\n",
      "Requirement already satisfied: gast==0.2.2 in /home/rgukt/.local/lib/python2.7/site-packages (from tensorflow-cpu) (0.2.2)\n",
      "Requirement already satisfied: scipy==1.2.2; python_version < \"3\" in /home/rgukt/.local/lib/python2.7/site-packages (from tensorflow-cpu) (1.2.2)\n",
      "Requirement already satisfied: enum34>=1.1.6; python_version < \"3.4\" in /usr/lib/python2.7/dist-packages (from tensorflow-cpu) (1.1.6)\n",
      "Requirement already satisfied: keras-applications>=1.0.8 in /home/rgukt/.local/lib/python2.7/site-packages (from tensorflow-cpu) (1.0.8)\n",
      "Requirement already satisfied: astor>=0.6.0 in /home/rgukt/.local/lib/python2.7/site-packages (from tensorflow-cpu) (0.8.1)\n",
      "Requirement already satisfied: keras-preprocessing>=1.1.0 in /home/rgukt/.local/lib/python2.7/site-packages (from tensorflow-cpu) (1.1.2)\n",
      "Requirement already satisfied: termcolor>=1.1.0 in /home/rgukt/.local/lib/python2.7/site-packages (from tensorflow-cpu) (1.1.0)\n",
      "Requirement already satisfied: backports.weakref>=1.0rc1; python_version < \"3.4\" in /home/rgukt/.local/lib/python2.7/site-packages (from tensorflow-cpu) (1.0.post1)\n",
      "Requirement already satisfied: protobuf>=3.8.0 in /home/rgukt/.local/lib/python2.7/site-packages (from tensorflow-cpu) (3.17.3)\n",
      "Requirement already satisfied: absl-py>=0.7.0 in /home/rgukt/.local/lib/python2.7/site-packages (from tensorflow-cpu) (0.15.0)\n",
      "Requirement already satisfied: mock>=2.0.0; python_version < \"3\" in /home/rgukt/.local/lib/python2.7/site-packages (from tensorflow-cpu) (3.0.5)\n",
      "Requirement already satisfied: functools32>=3.2.3; python_version < \"3\" in /home/rgukt/.local/lib/python2.7/site-packages (from tensorflow-cpu) (3.2.3.post2)\n",
      "Requirement already satisfied: six>=1.12.0 in /home/rgukt/.local/lib/python2.7/site-packages (from tensorflow-cpu) (1.16.0)\n",
      "Requirement already satisfied: tensorboard<2.2.0,>=2.1.0 in /home/rgukt/.local/lib/python2.7/site-packages (from tensorflow-cpu) (2.1.0)\n",
      "Requirement already satisfied: wheel; python_version < \"3\" in /usr/lib/python2.7/dist-packages (from tensorflow-cpu) (0.30.0)\n",
      "Requirement already satisfied: wrapt>=1.11.1 in /home/rgukt/.local/lib/python2.7/site-packages (from tensorflow-cpu) (1.15.0)\n",
      "Requirement already satisfied: tensorflow-estimator<2.2.0,>=2.1.0rc0 in /home/rgukt/.local/lib/python2.7/site-packages (from tensorflow-cpu) (2.1.0)\n",
      "Requirement already satisfied: google-pasta>=0.1.6 in /home/rgukt/.local/lib/python2.7/site-packages (from tensorflow-cpu) (0.2.0)\n",
      "Requirement already satisfied: grpcio>=1.8.6 in /home/rgukt/.local/lib/python2.7/site-packages (from tensorflow-cpu) (1.41.1)\n",
      "Requirement already satisfied: h5py in /home/rgukt/.local/lib/python2.7/site-packages (from keras-applications>=1.0.8->tensorflow-cpu) (2.10.0)\n",
      "Requirement already satisfied: funcsigs>=1; python_version < \"3.3\" in /home/rgukt/.local/lib/python2.7/site-packages (from mock>=2.0.0; python_version < \"3\"->tensorflow-cpu) (1.0.2)\n",
      "Requirement already satisfied: google-auth<2,>=1.6.3 in /home/rgukt/.local/lib/python2.7/site-packages (from tensorboard<2.2.0,>=2.1.0->tensorflow-cpu) (1.35.0)\n",
      "Requirement already satisfied: requests<3,>=2.21.0 in /home/rgukt/.local/lib/python2.7/site-packages (from tensorboard<2.2.0,>=2.1.0->tensorflow-cpu) (2.27.1)\n",
      "Requirement already satisfied: google-auth-oauthlib<0.5,>=0.4.1 in /home/rgukt/.local/lib/python2.7/site-packages (from tensorboard<2.2.0,>=2.1.0->tensorflow-cpu) (0.4.1)\n",
      "Requirement already satisfied: werkzeug>=0.11.15 in /home/rgukt/.local/lib/python2.7/site-packages (from tensorboard<2.2.0,>=2.1.0->tensorflow-cpu) (1.0.1)\n",
      "Requirement already satisfied: futures>=3.1.1; python_version < \"3\" in /home/rgukt/.local/lib/python2.7/site-packages (from tensorboard<2.2.0,>=2.1.0->tensorflow-cpu) (3.4.0)\n",
      "Requirement already satisfied: markdown>=2.6.8 in /home/rgukt/.local/lib/python2.7/site-packages (from tensorboard<2.2.0,>=2.1.0->tensorflow-cpu) (3.1.1)\n",
      "Requirement already satisfied: setuptools>=41.0.0 in /home/rgukt/.local/lib/python2.7/site-packages (from tensorboard<2.2.0,>=2.1.0->tensorflow-cpu) (44.1.1)\n",
      "Requirement already satisfied: pyasn1-modules>=0.2.1 in /home/rgukt/.local/lib/python2.7/site-packages (from google-auth<2,>=1.6.3->tensorboard<2.2.0,>=2.1.0->tensorflow-cpu) (0.3.0)\n",
      "Requirement already satisfied: rsa<4.6; python_version < \"3.6\" in /home/rgukt/.local/lib/python2.7/site-packages (from google-auth<2,>=1.6.3->tensorboard<2.2.0,>=2.1.0->tensorflow-cpu) (4.5)\n",
      "Requirement already satisfied: cachetools<5.0,>=2.0.0 in /home/rgukt/.local/lib/python2.7/site-packages (from google-auth<2,>=1.6.3->tensorboard<2.2.0,>=2.1.0->tensorflow-cpu) (3.1.1)\n",
      "Requirement already satisfied: certifi>=2017.4.17 in /home/rgukt/.local/lib/python2.7/site-packages (from requests<3,>=2.21.0->tensorboard<2.2.0,>=2.1.0->tensorflow-cpu) (2021.10.8)\n",
      "Requirement already satisfied: urllib3<1.27,>=1.21.1 in /home/rgukt/.local/lib/python2.7/site-packages (from requests<3,>=2.21.0->tensorboard<2.2.0,>=2.1.0->tensorflow-cpu) (1.26.18)\n",
      "Requirement already satisfied: chardet<5,>=3.0.2; python_version < \"3\" in /home/rgukt/.local/lib/python2.7/site-packages (from requests<3,>=2.21.0->tensorboard<2.2.0,>=2.1.0->tensorflow-cpu) (4.0.0)\n",
      "Requirement already satisfied: idna<3,>=2.5; python_version < \"3\" in /usr/lib/python2.7/dist-packages (from requests<3,>=2.21.0->tensorboard<2.2.0,>=2.1.0->tensorflow-cpu) (2.6)\n",
      "Requirement already satisfied: requests-oauthlib>=0.7.0 in /home/rgukt/.local/lib/python2.7/site-packages (from google-auth-oauthlib<0.5,>=0.4.1->tensorboard<2.2.0,>=2.1.0->tensorflow-cpu) (1.3.1)\n",
      "Requirement already satisfied: pyasn1<0.6.0,>=0.4.6 in /home/rgukt/.local/lib/python2.7/site-packages (from pyasn1-modules>=0.2.1->google-auth<2,>=1.6.3->tensorboard<2.2.0,>=2.1.0->tensorflow-cpu) (0.5.1)\n",
      "Requirement already satisfied: oauthlib>=3.0.0 in /home/rgukt/.local/lib/python2.7/site-packages (from requests-oauthlib>=0.7.0->google-auth-oauthlib<0.5,>=0.4.1->tensorboard<2.2.0,>=2.1.0->tensorflow-cpu) (3.1.0)\n",
      "Installing collected packages: tensorflow-cpu\n",
      "Successfully installed tensorflow-cpu-2.1.0\n"
     ]
    }
   ],
   "source": [
    "!pip install tensorflow-cpu"
   ]
  },
  {
   "cell_type": "code",
   "execution_count": 2,
   "metadata": {},
   "outputs": [
    {
     "name": "stdout",
     "output_type": "stream",
     "text": [
      "\u001b[33mDEPRECATION: Python 2.7 reached the end of its life on January 1st, 2020. Please upgrade your Python as Python 2.7 is no longer maintained. pip 21.0 will drop support for Python 2.7 in January 2021. More details about Python 2 support in pip can be found at https://pip.pypa.io/en/latest/development/release-process/#python-2-support pip 21.0 will remove support for this functionality.\u001b[0m\n",
      "Defaulting to user installation because normal site-packages is not writeable\n",
      "Requirement already up-to-date: tensorflow-cpu in /home/rgukt/.local/lib/python2.7/site-packages (2.1.0)\n",
      "Requirement already satisfied, skipping upgrade: numpy<2.0,>=1.16.0 in /home/rgukt/.local/lib/python2.7/site-packages (from tensorflow-cpu) (1.16.6)\n",
      "Requirement already satisfied, skipping upgrade: opt-einsum>=2.3.2 in /home/rgukt/.local/lib/python2.7/site-packages (from tensorflow-cpu) (2.3.2)\n",
      "Requirement already satisfied, skipping upgrade: scipy==1.2.2; python_version < \"3\" in /home/rgukt/.local/lib/python2.7/site-packages (from tensorflow-cpu) (1.2.2)\n",
      "Requirement already satisfied, skipping upgrade: gast==0.2.2 in /home/rgukt/.local/lib/python2.7/site-packages (from tensorflow-cpu) (0.2.2)\n",
      "Requirement already satisfied, skipping upgrade: enum34>=1.1.6; python_version < \"3.4\" in /usr/lib/python2.7/dist-packages (from tensorflow-cpu) (1.1.6)\n",
      "Requirement already satisfied, skipping upgrade: keras-applications>=1.0.8 in /home/rgukt/.local/lib/python2.7/site-packages (from tensorflow-cpu) (1.0.8)\n",
      "Requirement already satisfied, skipping upgrade: astor>=0.6.0 in /home/rgukt/.local/lib/python2.7/site-packages (from tensorflow-cpu) (0.8.1)\n",
      "Requirement already satisfied, skipping upgrade: mock>=2.0.0; python_version < \"3\" in /home/rgukt/.local/lib/python2.7/site-packages (from tensorflow-cpu) (3.0.5)\n",
      "Requirement already satisfied, skipping upgrade: keras-preprocessing>=1.1.0 in /home/rgukt/.local/lib/python2.7/site-packages (from tensorflow-cpu) (1.1.2)\n",
      "Requirement already satisfied, skipping upgrade: termcolor>=1.1.0 in /home/rgukt/.local/lib/python2.7/site-packages (from tensorflow-cpu) (1.1.0)\n",
      "Requirement already satisfied, skipping upgrade: backports.weakref>=1.0rc1; python_version < \"3.4\" in /home/rgukt/.local/lib/python2.7/site-packages (from tensorflow-cpu) (1.0.post1)\n",
      "Requirement already satisfied, skipping upgrade: protobuf>=3.8.0 in /home/rgukt/.local/lib/python2.7/site-packages (from tensorflow-cpu) (3.17.3)\n",
      "Requirement already satisfied, skipping upgrade: absl-py>=0.7.0 in /home/rgukt/.local/lib/python2.7/site-packages (from tensorflow-cpu) (0.15.0)\n",
      "Requirement already satisfied, skipping upgrade: functools32>=3.2.3; python_version < \"3\" in /home/rgukt/.local/lib/python2.7/site-packages (from tensorflow-cpu) (3.2.3.post2)\n",
      "Requirement already satisfied, skipping upgrade: six>=1.12.0 in /home/rgukt/.local/lib/python2.7/site-packages (from tensorflow-cpu) (1.16.0)\n",
      "Requirement already satisfied, skipping upgrade: tensorboard<2.2.0,>=2.1.0 in /home/rgukt/.local/lib/python2.7/site-packages (from tensorflow-cpu) (2.1.0)\n",
      "Requirement already satisfied, skipping upgrade: wheel; python_version < \"3\" in /usr/lib/python2.7/dist-packages (from tensorflow-cpu) (0.30.0)\n",
      "Requirement already satisfied, skipping upgrade: wrapt>=1.11.1 in /home/rgukt/.local/lib/python2.7/site-packages (from tensorflow-cpu) (1.15.0)\n",
      "Requirement already satisfied, skipping upgrade: tensorflow-estimator<2.2.0,>=2.1.0rc0 in /home/rgukt/.local/lib/python2.7/site-packages (from tensorflow-cpu) (2.1.0)\n",
      "Requirement already satisfied, skipping upgrade: google-pasta>=0.1.6 in /home/rgukt/.local/lib/python2.7/site-packages (from tensorflow-cpu) (0.2.0)\n",
      "Requirement already satisfied, skipping upgrade: grpcio>=1.8.6 in /home/rgukt/.local/lib/python2.7/site-packages (from tensorflow-cpu) (1.41.1)\n",
      "Requirement already satisfied, skipping upgrade: h5py in /home/rgukt/.local/lib/python2.7/site-packages (from keras-applications>=1.0.8->tensorflow-cpu) (2.10.0)\n",
      "Requirement already satisfied, skipping upgrade: funcsigs>=1; python_version < \"3.3\" in /home/rgukt/.local/lib/python2.7/site-packages (from mock>=2.0.0; python_version < \"3\"->tensorflow-cpu) (1.0.2)\n",
      "Requirement already satisfied, skipping upgrade: google-auth<2,>=1.6.3 in /home/rgukt/.local/lib/python2.7/site-packages (from tensorboard<2.2.0,>=2.1.0->tensorflow-cpu) (1.35.0)\n",
      "Requirement already satisfied, skipping upgrade: requests<3,>=2.21.0 in /home/rgukt/.local/lib/python2.7/site-packages (from tensorboard<2.2.0,>=2.1.0->tensorflow-cpu) (2.27.1)\n",
      "Requirement already satisfied, skipping upgrade: google-auth-oauthlib<0.5,>=0.4.1 in /home/rgukt/.local/lib/python2.7/site-packages (from tensorboard<2.2.0,>=2.1.0->tensorflow-cpu) (0.4.1)\n",
      "Requirement already satisfied, skipping upgrade: werkzeug>=0.11.15 in /home/rgukt/.local/lib/python2.7/site-packages (from tensorboard<2.2.0,>=2.1.0->tensorflow-cpu) (1.0.1)\n",
      "Requirement already satisfied, skipping upgrade: markdown>=2.6.8 in /home/rgukt/.local/lib/python2.7/site-packages (from tensorboard<2.2.0,>=2.1.0->tensorflow-cpu) (3.1.1)\n",
      "Requirement already satisfied, skipping upgrade: setuptools>=41.0.0 in /home/rgukt/.local/lib/python2.7/site-packages (from tensorboard<2.2.0,>=2.1.0->tensorflow-cpu) (44.1.1)\n",
      "Requirement already satisfied, skipping upgrade: futures>=3.1.1; python_version < \"3\" in /home/rgukt/.local/lib/python2.7/site-packages (from tensorboard<2.2.0,>=2.1.0->tensorflow-cpu) (3.4.0)\n",
      "Requirement already satisfied, skipping upgrade: pyasn1-modules>=0.2.1 in /home/rgukt/.local/lib/python2.7/site-packages (from google-auth<2,>=1.6.3->tensorboard<2.2.0,>=2.1.0->tensorflow-cpu) (0.3.0)\n",
      "Requirement already satisfied, skipping upgrade: rsa<4.6; python_version < \"3.6\" in /home/rgukt/.local/lib/python2.7/site-packages (from google-auth<2,>=1.6.3->tensorboard<2.2.0,>=2.1.0->tensorflow-cpu) (4.5)\n",
      "Requirement already satisfied, skipping upgrade: cachetools<5.0,>=2.0.0 in /home/rgukt/.local/lib/python2.7/site-packages (from google-auth<2,>=1.6.3->tensorboard<2.2.0,>=2.1.0->tensorflow-cpu) (3.1.1)\n",
      "Requirement already satisfied, skipping upgrade: certifi>=2017.4.17 in /home/rgukt/.local/lib/python2.7/site-packages (from requests<3,>=2.21.0->tensorboard<2.2.0,>=2.1.0->tensorflow-cpu) (2021.10.8)\n",
      "Requirement already satisfied, skipping upgrade: urllib3<1.27,>=1.21.1 in /home/rgukt/.local/lib/python2.7/site-packages (from requests<3,>=2.21.0->tensorboard<2.2.0,>=2.1.0->tensorflow-cpu) (1.26.18)\n",
      "Requirement already satisfied, skipping upgrade: chardet<5,>=3.0.2; python_version < \"3\" in /home/rgukt/.local/lib/python2.7/site-packages (from requests<3,>=2.21.0->tensorboard<2.2.0,>=2.1.0->tensorflow-cpu) (4.0.0)\n",
      "Requirement already satisfied, skipping upgrade: idna<3,>=2.5; python_version < \"3\" in /usr/lib/python2.7/dist-packages (from requests<3,>=2.21.0->tensorboard<2.2.0,>=2.1.0->tensorflow-cpu) (2.6)\n",
      "Requirement already satisfied, skipping upgrade: requests-oauthlib>=0.7.0 in /home/rgukt/.local/lib/python2.7/site-packages (from google-auth-oauthlib<0.5,>=0.4.1->tensorboard<2.2.0,>=2.1.0->tensorflow-cpu) (1.3.1)\n",
      "Requirement already satisfied, skipping upgrade: pyasn1<0.6.0,>=0.4.6 in /home/rgukt/.local/lib/python2.7/site-packages (from pyasn1-modules>=0.2.1->google-auth<2,>=1.6.3->tensorboard<2.2.0,>=2.1.0->tensorflow-cpu) (0.5.1)\n",
      "Requirement already satisfied, skipping upgrade: oauthlib>=3.0.0 in /home/rgukt/.local/lib/python2.7/site-packages (from requests-oauthlib>=0.7.0->google-auth-oauthlib<0.5,>=0.4.1->tensorboard<2.2.0,>=2.1.0->tensorflow-cpu) (3.1.0)\n"
     ]
    }
   ],
   "source": [
    "!pip install --upgrade tensorflow-cpu"
   ]
  },
  {
   "cell_type": "code",
   "execution_count": 2,
   "metadata": {},
   "outputs": [],
   "source": [
    "import pandas as pd\n",
    "from sklearn.model_selection import train_test_split\n",
    "import string\n",
    "from string import digits\n",
    "import re\n",
    "from sklearn.utils import shuffle\n",
    "from keras.preprocessing.sequence import pad_sequences\n",
    "from keras.layers import LSTM, Input, Dense,Embedding\n",
    "from keras.models import Model,load_model\n",
    "from keras.utils.vis_utils import plot_model\n",
    "from keras.preprocessing.text import one_hot\n",
    "from keras.preprocessing.text import Tokenizer\n",
    "from keras.models import model_from_json\n",
    "import pickle as pkl\n",
    "import numpy as np\n",
    "import os \n",
    "os.environ['TF_CPP_MIN_LOG_LEVEL']='2'"
   ]
  },
  {
   "cell_type": "code",
   "execution_count": 3,
   "metadata": {},
   "outputs": [],
   "source": [
    "with open('mar.txt','r') as f:\n",
    "  data = f.read()"
   ]
  },
  {
   "cell_type": "code",
   "execution_count": 4,
   "metadata": {},
   "outputs": [
    {
     "data": {
      "text/plain": [
       "5226609"
      ]
     },
     "execution_count": 4,
     "metadata": {},
     "output_type": "execute_result"
    }
   ],
   "source": [
    "len(data)"
   ]
  },
  {
   "cell_type": "code",
   "execution_count": 5,
   "metadata": {},
   "outputs": [],
   "source": [
    "# we need to clean the data\n",
    "uncleaned_data_list = data.split('\\n')     "
   ]
  },
  {
   "cell_type": "code",
   "execution_count": 6,
   "metadata": {},
   "outputs": [
    {
     "data": {
      "text/plain": [
       "38697"
      ]
     },
     "execution_count": 6,
     "metadata": {},
     "output_type": "execute_result"
    }
   ],
   "source": [
    "len(uncleaned_data_list)"
   ]
  },
  {
   "cell_type": "code",
   "execution_count": 7,
   "metadata": {},
   "outputs": [],
   "source": [
    "uncleaned_data_list = uncleaned_data_list[:38695]"
   ]
  },
  {
   "cell_type": "code",
   "execution_count": 8,
   "metadata": {},
   "outputs": [
    {
     "data": {
      "text/plain": [
       "38695"
      ]
     },
     "execution_count": 8,
     "metadata": {},
     "output_type": "execute_result"
    }
   ],
   "source": [
    "len(uncleaned_data_list)"
   ]
  },
  {
   "cell_type": "code",
   "execution_count": 9,
   "metadata": {},
   "outputs": [],
   "source": [
    "english_word = []\n",
    "marathi_word = []\n",
    "cleaned_data_list = []\n",
    "for word in uncleaned_data_list:\n",
    "  english_word.append(word.split('\\t')[:-1][0])\n",
    "  marathi_word.append(word.split('\\t')[:-1][1])"
   ]
  },
  {
   "cell_type": "code",
   "execution_count": 10,
   "metadata": {},
   "outputs": [
    {
     "data": {
      "text/plain": [
       "(38695, 38695)"
      ]
     },
     "execution_count": 10,
     "metadata": {},
     "output_type": "execute_result"
    }
   ],
   "source": [
    "len(english_word), len(marathi_word)"
   ]
  },
  {
   "cell_type": "code",
   "execution_count": 11,
   "metadata": {},
   "outputs": [],
   "source": [
    "language_data = pd.DataFrame(columns=['English','Marathi'])\n",
    "language_data['English'] = english_word\n",
    "language_data['Marathi'] = marathi_word"
   ]
  },
  {
   "cell_type": "code",
   "execution_count": 12,
   "metadata": {},
   "outputs": [],
   "source": [
    "# saving to csv\n",
    "language_data.to_csv('language_data.csv', index=False)"
   ]
  },
  {
   "cell_type": "code",
   "execution_count": 13,
   "metadata": {},
   "outputs": [],
   "source": [
    "language_data = pd.read_csv('language_data.csv')"
   ]
  },
  {
   "cell_type": "code",
   "execution_count": 14,
   "metadata": {},
   "outputs": [
    {
     "data": {
      "text/html": [
       "<div>\n",
       "<style scoped>\n",
       "    .dataframe tbody tr th:only-of-type {\n",
       "        vertical-align: middle;\n",
       "    }\n",
       "\n",
       "    .dataframe tbody tr th {\n",
       "        vertical-align: top;\n",
       "    }\n",
       "\n",
       "    .dataframe thead th {\n",
       "        text-align: right;\n",
       "    }\n",
       "</style>\n",
       "<table border=\"1\" class=\"dataframe\">\n",
       "  <thead>\n",
       "    <tr style=\"text-align: right;\">\n",
       "      <th></th>\n",
       "      <th>English</th>\n",
       "      <th>Marathi</th>\n",
       "    </tr>\n",
       "  </thead>\n",
       "  <tbody>\n",
       "    <tr>\n",
       "      <th>0</th>\n",
       "      <td>Go.</td>\n",
       "      <td>जा.</td>\n",
       "    </tr>\n",
       "    <tr>\n",
       "      <th>1</th>\n",
       "      <td>Run!</td>\n",
       "      <td>पळ!</td>\n",
       "    </tr>\n",
       "    <tr>\n",
       "      <th>2</th>\n",
       "      <td>Run!</td>\n",
       "      <td>धाव!</td>\n",
       "    </tr>\n",
       "    <tr>\n",
       "      <th>3</th>\n",
       "      <td>Run!</td>\n",
       "      <td>पळा!</td>\n",
       "    </tr>\n",
       "    <tr>\n",
       "      <th>4</th>\n",
       "      <td>Run!</td>\n",
       "      <td>धावा!</td>\n",
       "    </tr>\n",
       "  </tbody>\n",
       "</table>\n",
       "</div>"
      ],
      "text/plain": [
       "  English Marathi\n",
       "0     Go.     जा.\n",
       "1    Run!     पळ!\n",
       "2    Run!    धाव!\n",
       "3    Run!    पळा!\n",
       "4    Run!   धावा!"
      ]
     },
     "execution_count": 14,
     "metadata": {},
     "output_type": "execute_result"
    }
   ],
   "source": [
    "language_data.head()"
   ]
  },
  {
   "cell_type": "code",
   "execution_count": 15,
   "metadata": {},
   "outputs": [
    {
     "data": {
      "text/html": [
       "<div>\n",
       "<style scoped>\n",
       "    .dataframe tbody tr th:only-of-type {\n",
       "        vertical-align: middle;\n",
       "    }\n",
       "\n",
       "    .dataframe tbody tr th {\n",
       "        vertical-align: top;\n",
       "    }\n",
       "\n",
       "    .dataframe thead th {\n",
       "        text-align: right;\n",
       "    }\n",
       "</style>\n",
       "<table border=\"1\" class=\"dataframe\">\n",
       "  <thead>\n",
       "    <tr style=\"text-align: right;\">\n",
       "      <th></th>\n",
       "      <th>English</th>\n",
       "      <th>Marathi</th>\n",
       "    </tr>\n",
       "  </thead>\n",
       "  <tbody>\n",
       "    <tr>\n",
       "      <th>38690</th>\n",
       "      <td>If religion were synonymous with morality, Bra...</td>\n",
       "      <td>जर धर्म व नीतिमत्ता समानार्थी शब्द असते, तर ब्...</td>\n",
       "    </tr>\n",
       "    <tr>\n",
       "      <th>38691</th>\n",
       "      <td>Just saying you don't like fish because of the...</td>\n",
       "      <td>हड्डींमुळे मासे आवडत नाही असं म्हणणं हे काय मा...</td>\n",
       "    </tr>\n",
       "    <tr>\n",
       "      <th>38692</th>\n",
       "      <td>The Japanese Parliament today officially elect...</td>\n",
       "      <td>आज जपानी संसदेने अधिकृतरित्या र्‍यौतारौ हाशिमो...</td>\n",
       "    </tr>\n",
       "    <tr>\n",
       "      <th>38693</th>\n",
       "      <td>Tom tried to sell his old VCR instead of throw...</td>\n",
       "      <td>टॉमने त्याचा जुना व्ही.सी.आर फेकून टाकण्याऐवजी...</td>\n",
       "    </tr>\n",
       "    <tr>\n",
       "      <th>38694</th>\n",
       "      <td>You can't view Flash content on an iPad. Howev...</td>\n",
       "      <td>आयपॅडवर फ्लॅश आशय बघता येत नाही. पण तुम्ही त्य...</td>\n",
       "    </tr>\n",
       "  </tbody>\n",
       "</table>\n",
       "</div>"
      ],
      "text/plain": [
       "                                                 English  \\\n",
       "38690  If religion were synonymous with morality, Bra...   \n",
       "38691  Just saying you don't like fish because of the...   \n",
       "38692  The Japanese Parliament today officially elect...   \n",
       "38693  Tom tried to sell his old VCR instead of throw...   \n",
       "38694  You can't view Flash content on an iPad. Howev...   \n",
       "\n",
       "                                                 Marathi  \n",
       "38690  जर धर्म व नीतिमत्ता समानार्थी शब्द असते, तर ब्...  \n",
       "38691  हड्डींमुळे मासे आवडत नाही असं म्हणणं हे काय मा...  \n",
       "38692  आज जपानी संसदेने अधिकृतरित्या र्‍यौतारौ हाशिमो...  \n",
       "38693  टॉमने त्याचा जुना व्ही.सी.आर फेकून टाकण्याऐवजी...  \n",
       "38694  आयपॅडवर फ्लॅश आशय बघता येत नाही. पण तुम्ही त्य...  "
      ]
     },
     "execution_count": 15,
     "metadata": {},
     "output_type": "execute_result"
    }
   ],
   "source": [
    "language_data.tail()"
   ]
  },
  {
   "cell_type": "code",
   "execution_count": 16,
   "metadata": {},
   "outputs": [],
   "source": [
    "english_text = language_data['English'].values\n",
    "marathi_text = language_data['Marathi'].values"
   ]
  },
  {
   "cell_type": "code",
   "execution_count": 17,
   "metadata": {},
   "outputs": [
    {
     "data": {
      "text/plain": [
       "('Go.', 'जा.')"
      ]
     },
     "execution_count": 17,
     "metadata": {},
     "output_type": "execute_result"
    }
   ],
   "source": [
    "english_text[0], marathi_text[0]"
   ]
  },
  {
   "cell_type": "code",
   "execution_count": 18,
   "metadata": {},
   "outputs": [
    {
     "data": {
      "text/plain": [
       "(38695, 38695)"
      ]
     },
     "execution_count": 18,
     "metadata": {},
     "output_type": "execute_result"
    }
   ],
   "source": [
    "len(english_text), len(marathi_text)"
   ]
  },
  {
   "cell_type": "code",
   "execution_count": 19,
   "metadata": {},
   "outputs": [],
   "source": [
    "english_text_ = [x.lower() for x in english_text]\n",
    "marathi_text_ = [x.lower() for x in marathi_text]"
   ]
  },
  {
   "cell_type": "code",
   "execution_count": 20,
   "metadata": {},
   "outputs": [
    {
     "data": {
      "text/plain": [
       "(list, list)"
      ]
     },
     "execution_count": 20,
     "metadata": {},
     "output_type": "execute_result"
    }
   ],
   "source": [
    "type(english_text_), type(marathi_text_)"
   ]
  },
  {
   "cell_type": "code",
   "execution_count": 21,
   "metadata": {},
   "outputs": [],
   "source": [
    "english_text_ = [re.sub(\"'\",'',x) for x in english_text_]\n",
    "marathi_text_ = [re.sub(\"'\",'',x) for x in marathi_text_]"
   ]
  },
  {
   "cell_type": "code",
   "execution_count": 22,
   "metadata": {},
   "outputs": [],
   "source": [
    "def remove_punc(text_list):\n",
    "  table = str.maketrans('', '', string.punctuation)\n",
    "  removed_punc_text = []\n",
    "  for sent in text_list:\n",
    "    sentance = [w.translate(table) for w in sent.split(' ')]\n",
    "    removed_punc_text.append(' '.join(sentance))\n",
    "  return removed_punc_text\n",
    "english_text_ = remove_punc(english_text_)\n",
    "marathi_text_ = remove_punc(marathi_text_)"
   ]
  },
  {
   "cell_type": "code",
   "execution_count": 23,
   "metadata": {},
   "outputs": [],
   "source": [
    "# removing the digits from english sentances\n",
    "remove_digits = str.maketrans('', '', digits)\n",
    "removed_digits_text = []\n",
    "for sent in english_text_:\n",
    "  sentance = [w.translate(remove_digits) for w in sent.split(' ')]\n",
    "  removed_digits_text.append(' '.join(sentance))\n",
    "english_text_ = removed_digits_text\n",
    "\n",
    "# removing the digits from the marathi sentances\n",
    "marathi_text_ = [re.sub(\"[२३०८१५७९४६]\",\"\",x) for x in marathi_text_]\n",
    "marathi_text_ = [re.sub(\"[\\u200d]\",\"\",x) for x in marathi_text_]\n",
    "\n",
    "# removing the stating and ending whitespaces\n",
    "english_text_ = [x.strip() for x in english_text_]\n",
    "marathi_text_ = [x.strip() for x in marathi_text_]"
   ]
  },
  {
   "cell_type": "code",
   "execution_count": 24,
   "metadata": {},
   "outputs": [],
   "source": [
    "# removing the starting and ending whitespaces\n",
    "english_text_ = [x.strip() for x in english_text_]\n",
    "marathi_text_ = [x.strip() for x in marathi_text_]"
   ]
  },
  {
   "cell_type": "code",
   "execution_count": 25,
   "metadata": {},
   "outputs": [],
   "source": [
    "# Putting the start and end words in the marathi sentances\n",
    "marathi_text_ = [\"start \" + x + \" end\" for x in marathi_text_]"
   ]
  },
  {
   "cell_type": "code",
   "execution_count": 26,
   "metadata": {},
   "outputs": [
    {
     "data": {
      "text/plain": [
       "('start जा end', 'go')"
      ]
     },
     "execution_count": 26,
     "metadata": {},
     "output_type": "execute_result"
    }
   ],
   "source": [
    "# manipulated_marathi_text_\n",
    "marathi_text_[0], english_text_[0]"
   ]
  },
  {
   "cell_type": "code",
   "execution_count": 27,
   "metadata": {},
   "outputs": [
    {
     "data": {
      "text/plain": [
       "(38695, 38695)"
      ]
     },
     "execution_count": 27,
     "metadata": {},
     "output_type": "execute_result"
    }
   ],
   "source": [
    "len(marathi_text_),len(english_text)"
   ]
  },
  {
   "cell_type": "code",
   "execution_count": 28,
   "metadata": {},
   "outputs": [],
   "source": [
    "X = english_text_\n",
    "Y = marathi_text_"
   ]
  },
  {
   "cell_type": "code",
   "execution_count": 29,
   "metadata": {},
   "outputs": [
    {
     "data": {
      "text/plain": [
       "(34825, 34825, 3870, 3870)"
      ]
     },
     "execution_count": 29,
     "metadata": {},
     "output_type": "execute_result"
    }
   ],
   "source": [
    "X_train, X_test, y_train, y_test = train_test_split(X,Y,test_size = 0.1)\n",
    "len(X_train),len(y_train), len(X_test), len(y_test)"
   ]
  },
  {
   "cell_type": "code",
   "execution_count": 30,
   "metadata": {},
   "outputs": [
    {
     "data": {
      "text/plain": [
       "('go', 'start जा end')"
      ]
     },
     "execution_count": 30,
     "metadata": {},
     "output_type": "execute_result"
    }
   ],
   "source": [
    "X[0], Y[0]"
   ]
  },
  {
   "cell_type": "code",
   "execution_count": 31,
   "metadata": {},
   "outputs": [
    {
     "data": {
      "text/plain": [
       "('there are many slums in mexico', 'start मेक्सिकोमध्ये भरपूर चाळी आहेत end')"
      ]
     },
     "execution_count": 31,
     "metadata": {},
     "output_type": "execute_result"
    }
   ],
   "source": [
    "X_train[0], y_train[0]"
   ]
  },
  {
   "cell_type": "code",
   "execution_count": 32,
   "metadata": {},
   "outputs": [],
   "source": [
    "# preparing data for the word embedding\n",
    "def Max_length(data):\n",
    "  max_length_ = max([len(x.split(' ')) for x in data])\n",
    "  return max_length_\n",
    "\n",
    "#Training data\n",
    "max_length_english = Max_length(X_train)\n",
    "max_lenght_marathi = Max_length(y_train)\n",
    "\n",
    "#Test data\n",
    "max_length_english_test = Max_length(X_test)\n",
    "max_lenght_marathi_test = Max_length(y_test)"
   ]
  },
  {
   "cell_type": "code",
   "execution_count": 33,
   "metadata": {},
   "outputs": [
    {
     "data": {
      "text/plain": [
       "(26, 32)"
      ]
     },
     "execution_count": 33,
     "metadata": {},
     "output_type": "execute_result"
    }
   ],
   "source": [
    "max_lenght_marathi, max_length_english"
   ]
  },
  {
   "cell_type": "code",
   "execution_count": 34,
   "metadata": {},
   "outputs": [],
   "source": [
    "def tokenizer_(text_data):\n",
    "  tokenizer = Tokenizer()\n",
    "  tokenizer.fit_on_texts(text_data)\n",
    "  return tokenizer\n",
    "\n",
    "tokenizer_input = tokenizer_(X_train)\n",
    "vocab_size_input = len(tokenizer_input.word_index) + 1\n",
    "tokenizer_target = tokenizer_(y_train)\n",
    "vocab_size_target = len(tokenizer_target.word_index) + 1"
   ]
  },
  {
   "cell_type": "code",
   "execution_count": 35,
   "metadata": {},
   "outputs": [],
   "source": [
    "with open('tokenizer_input.pkl','wb') as f:\n",
    "  pkl.dump(tokenizer_input,f)\n",
    "\n",
    "with open('tokenizer_target.pkl','wb') as f:\n",
    "  pkl.dump(tokenizer_target,f)\n",
    "pkl.dump(tokenizer_input, open('tokenizer_input.pkl', 'wb'))\n",
    "pkl.dump(tokenizer_target, open('tokenizer_target.pkl', 'wb'))"
   ]
  },
  {
   "cell_type": "code",
   "execution_count": 39,
   "metadata": {},
   "outputs": [
    {
     "data": {
      "text/plain": [
       "(5419, 12799)"
      ]
     },
     "execution_count": 39,
     "metadata": {},
     "output_type": "execute_result"
    }
   ],
   "source": [
    "vocab_size_input,vocab_size_target"
   ]
  },
  {
   "cell_type": "code",
   "execution_count": 40,
   "metadata": {},
   "outputs": [],
   "source": [
    "def generator_batch(X= X_train,Y=y_train, batch_size=32):\n",
    "  while True:\n",
    "    for j in range(0, len(X), batch_size):\n",
    "      encoder_data_input = np.zeros((batch_size,max_length_english),dtype='float32') #metrix of batch_size*max_length_english\n",
    "      decoder_data_input = np.zeros((batch_size,max_lenght_marathi),dtype='float32') #metrix of batch_size*max_length_marathi\n",
    "      decoder_target_input = np.zeros((batch_size,max_lenght_marathi,vocab_size_target),dtype='float32') # 3d array one hot encoder decoder target data\n",
    "      for i, (input_text,target_text) in enumerate(zip(X[j:j+batch_size],Y[j:j+batch_size])):\n",
    "        for t, word in enumerate(input_text.split()):\n",
    "          encoder_data_input[i,t] = tokenizer_input.word_index[word] # Here we are storing the encoder \n",
    "                                                                     #seq in row here padding is done automaticaly as \n",
    "                                                                     #we have defined col as max_lenght\n",
    "        for t, word in enumerate(target_text.split()):\n",
    "              # if word == 'START_':\n",
    "            #   word = 'start'\n",
    "              # elif word == 'END_':\n",
    "            #   word = 'end'\n",
    "          decoder_data_input[i,t] = tokenizer_target.word_index[word] # same for the decoder sequence\n",
    "          if t>0:\n",
    "            decoder_target_input[i,t-1,tokenizer_target.word_index[word]] = 1 #target is one timestep ahead of decoder input because it does not have 'start tag'\n",
    "            # print(encoder_data_input.shape())\n",
    "      yield ([encoder_data_input,decoder_data_input],decoder_target_input)"
   ]
  },
  {
   "cell_type": "code",
   "execution_count": 41,
   "metadata": {},
   "outputs": [],
   "source": [
    "latent_dim = 30\n",
    "# Define an input sequence and process it.\n",
    "encoder_inputs = Input(shape=(None,),name=\"encoder_inputs\")\n",
    "emb_layer_encoder = Embedding(vocab_size_input,latent_dim, mask_zero=True)(encoder_inputs)\n",
    "encoder = LSTM(latent_dim, return_state=True)\n",
    "encoder_outputs, state_h, state_c = encoder(emb_layer_encoder)\n",
    "# We discard `encoder_outputs` and only keep the states.\n",
    "encoder_states = [state_h, state_c]\n",
    "\n",
    "# Set up the decoder, using `encoder_states` as initial state.\n",
    "decoder_inputs = Input(shape=(None,),name=\"decoder_inputs\")\n",
    "# We set up our decoder to return full output sequences,\n",
    "# and to return internal states as well. We don't use the\n",
    "# return states in the training model, but we will use them in inference.\n",
    "emb_layer_decoder = Embedding(vocab_size_target,latent_dim, mask_zero=True)(decoder_inputs)\n",
    "decoder_lstm = LSTM(latent_dim, return_sequences=True, return_state=True)\n",
    "decoder_outputs, _, _ = decoder_lstm(emb_layer_decoder, initial_state=encoder_states)\n",
    "decoder_dense = Dense(vocab_size_target, activation='softmax')\n",
    "decoder_outputs = decoder_dense(decoder_outputs)\n",
    "\n",
    "# Define the model that will turn\n",
    "# `encoder_input_data` & `decoder_input_data` into `decoder_target_data`\n",
    "model = Model([encoder_inputs, decoder_inputs], decoder_outputs)"
   ]
  },
  {
   "cell_type": "code",
   "execution_count": 42,
   "metadata": {},
   "outputs": [],
   "source": [
    "model.compile(loss='categorical_crossentropy', optimizer='rmsprop', metrics=['accuracy'])"
   ]
  },
  {
   "cell_type": "code",
   "execution_count": 43,
   "metadata": {},
   "outputs": [
    {
     "name": "stdout",
     "output_type": "stream",
     "text": [
      "('You must install pydot (`pip install pydot`) and install graphviz (see instructions at https://graphviz.gitlab.io/download/) ', 'for plot_model/model_to_dot to work.')\n"
     ]
    }
   ],
   "source": [
    "plot_model(model, to_file='train_model.png', show_shapes=True)"
   ]
  },
  {
   "cell_type": "code",
   "execution_count": 44,
   "metadata": {},
   "outputs": [],
   "source": [
    "train_samples = len(X_train)\n",
    "val_samples = len(X_test)\n",
    "batch_size = 32\n",
    "epochs = 30"
   ]
  },
  {
   "cell_type": "code",
   "execution_count": 46,
   "metadata": {
    "scrolled": true
   },
   "outputs": [
    {
     "name": "stdout",
     "output_type": "stream",
     "text": [
      "Epoch 1/30\n",
      "1088/1088 [==============================] - 1064s 954ms/step - loss: 1.3211 - accuracy: 0.1630\n",
      "Epoch 2/30\n",
      "1088/1088 [==============================] - 999s 918ms/step - loss: 1.1826 - accuracy: 0.1900\n",
      "Epoch 3/30\n",
      "1088/1088 [==============================] - 1014s 932ms/step - loss: 1.1194 - accuracy: 0.2166\n",
      "Epoch 4/30\n",
      "1088/1088 [==============================] - 992s 912ms/step - loss: 1.0735 - accuracy: 0.2375\n",
      "Epoch 5/30\n",
      "1088/1088 [==============================] - 989s 909ms/step - loss: 1.0378 - accuracy: 0.2549\n",
      "Epoch 6/30\n",
      "1088/1088 [==============================] - 988s 908ms/step - loss: 1.0074 - accuracy: 0.2695\n",
      "Epoch 7/30\n",
      "1088/1088 [==============================] - 986s 906ms/step - loss: 0.9808 - accuracy: 0.2836\n",
      "Epoch 8/30\n",
      "1088/1088 [==============================] - 977s 898ms/step - loss: 0.9589 - accuracy: 0.2954\n",
      "Epoch 9/30\n",
      "1088/1088 [==============================] - 965s 887ms/step - loss: 0.9403 - accuracy: 0.3066\n",
      "Epoch 10/30\n",
      "1088/1088 [==============================] - 981s 902ms/step - loss: 0.9237 - accuracy: 0.3174\n",
      "Epoch 11/30\n",
      "1088/1088 [==============================] - 987s 907ms/step - loss: 0.9090 - accuracy: 0.3277\n",
      "Epoch 12/30\n",
      "1088/1088 [==============================] - 987s 907ms/step - loss: 0.8952 - accuracy: 0.3376\n",
      "Epoch 13/30\n",
      "1088/1088 [==============================] - 989s 909ms/step - loss: 0.8818 - accuracy: 0.3466\n",
      "Epoch 14/30\n",
      "1088/1088 [==============================] - 986s 906ms/step - loss: 0.8688 - accuracy: 0.3548\n",
      "Epoch 15/30\n",
      "1088/1088 [==============================] - 988s 908ms/step - loss: 0.8561 - accuracy: 0.3617\n",
      "Epoch 16/30\n",
      "1088/1088 [==============================] - 988s 908ms/step - loss: 0.8440 - accuracy: 0.3685\n",
      "Epoch 17/30\n",
      "1088/1088 [==============================] - 986s 906ms/step - loss: 0.8331 - accuracy: 0.3747\n",
      "Epoch 18/30\n",
      "1088/1088 [==============================] - 986s 906ms/step - loss: 0.8228 - accuracy: 0.3805\n",
      "Epoch 19/30\n",
      "1088/1088 [==============================] - 988s 908ms/step - loss: 0.8134 - accuracy: 0.3868\n",
      "Epoch 20/30\n",
      "1088/1088 [==============================] - 993s 913ms/step - loss: 0.8047 - accuracy: 0.3931\n",
      "Epoch 21/30\n",
      "1088/1088 [==============================] - 996s 915ms/step - loss: 0.7962 - accuracy: 0.3983\n",
      "Epoch 22/30\n",
      "1088/1088 [==============================] - 999s 918ms/step - loss: 0.7882 - accuracy: 0.4037\n",
      "Epoch 23/30\n",
      "1088/1088 [==============================] - 986s 907ms/step - loss: 0.7805 - accuracy: 0.4088\n",
      "Epoch 24/30\n",
      "1088/1088 [==============================] - 987s 907ms/step - loss: 0.7725 - accuracy: 0.4135\n",
      "Epoch 25/30\n",
      "1088/1088 [==============================] - 997s 916ms/step - loss: 0.7649 - accuracy: 0.4176\n",
      "Epoch 26/30\n",
      "1088/1088 [==============================] - 1003s 922ms/step - loss: 0.7574 - accuracy: 0.4218\n",
      "Epoch 27/30\n",
      "1088/1088 [==============================] - 1174s 1s/step - loss: 0.7504 - accuracy: 0.4255\n",
      "Epoch 28/30\n",
      "1088/1088 [==============================] - 1168s 1s/step - loss: 0.7435 - accuracy: 0.4293\n",
      "Epoch 29/30\n",
      "1088/1088 [==============================] - 992s 912ms/step - loss: 0.7367 - accuracy: 0.4325\n",
      "Epoch 30/30\n",
      "1088/1088 [==============================] - 1411s 1s/step - loss: 0.7304 - accuracy: 0.4356\n"
     ]
    },
    {
     "data": {
      "text/plain": [
       "<keras.callbacks.History at 0x7f487f9984e0>"
      ]
     },
     "execution_count": 46,
     "metadata": {},
     "output_type": "execute_result"
    }
   ],
   "source": [
    "model.fit(x = generator_batch(X_train, y_train, batch_size = batch_size),\n",
    "                    steps_per_epoch = train_samples//batch_size,\n",
    "                    epochs=epochs)"
   ]
  },
  {
   "cell_type": "code",
   "execution_count": 47,
   "metadata": {
    "scrolled": true
   },
   "outputs": [
    {
     "name": "stdout",
     "output_type": "stream",
     "text": [
      "Saved model to disk\n"
     ]
    }
   ],
   "source": [
    "model_json = model.to_json()\n",
    "with open(\"model_2.json\", \"w\") as json_file:\n",
    "    json_file.write(model_json)\n",
    "# serialize weights to HDF5\n",
    "model.save_weights(\"model_weight_5.h5\")\n",
    "print(\"Saved model to disk\")"
   ]
  },
  {
   "cell_type": "code",
   "execution_count": 48,
   "metadata": {},
   "outputs": [],
   "source": [
    "# loading the model architecture and asigning the weights\n",
    "json_file = open('model_2.json', 'r')\n",
    "loaded_model_json = json_file.read()\n",
    "json_file.close()\n",
    "model_loaded = model_from_json(loaded_model_json)\n",
    "# load weights into new model\n",
    "model_loaded.load_weights(\"model_weight_5.h5\")"
   ]
  },
  {
   "cell_type": "code",
   "execution_count": 49,
   "metadata": {},
   "outputs": [],
   "source": [
    "latent_dim = 30\n",
    "#inference encoder\n",
    "encoder_inputs_inf = model_loaded.input[0] #Trained encoder input layer\n",
    "encoder_outputs_inf, inf_state_h, inf_state_c = model_loaded.layers[4].output # retoring the encoder lstm output and states\n",
    "encoder_inf_states = [inf_state_h,inf_state_c]\n",
    "encoder_model = Model(encoder_inputs_inf,encoder_inf_states)"
   ]
  },
  {
   "cell_type": "code",
   "execution_count": 50,
   "metadata": {},
   "outputs": [],
   "source": [
    "#inference decoder\n",
    "# The following tensor will store the state of the previous timestep in the \"starting the encoder final time step\"\n",
    "decoder_state_h_input = Input(shape=(latent_dim,)) #becase during training we have set the lstm unit to be of 50\n",
    "decoder_state_c_input = Input(shape=(latent_dim,))\n",
    "decoder_state_input = [decoder_state_h_input,decoder_state_c_input]\n",
    "\n",
    "# # inference decoder input\n",
    "decoder_input_inf = model_loaded.input[1] #Trained decoder input layer\n",
    "# decoder_input_inf._name='decoder_input'\n",
    "decoder_emb_inf = model_loaded.layers[3](decoder_input_inf)\n",
    "decoder_lstm_inf = model_loaded.layers[5]\n",
    "decoder_output_inf, decoder_state_h_inf, decoder_state_c_inf = decoder_lstm_inf(decoder_emb_inf, initial_state =decoder_state_input)\n",
    "decoder_state_inf = [decoder_state_h_inf,decoder_state_c_inf]\n",
    "#inference dense layer\n",
    "dense_inf = model_loaded.layers[6]\n",
    "decoder_output_final = dense_inf(decoder_output_inf)# A dense softmax layer to generate prob dist. over the target vocabulary\n",
    "\n",
    "decoder_model = Model([decoder_input_inf]+decoder_state_input,[decoder_output_final]+decoder_state_inf)"
   ]
  },
  {
   "cell_type": "code",
   "execution_count": 51,
   "metadata": {},
   "outputs": [],
   "source": [
    "with open('tokenizer_input.pkl','rb') as f:\n",
    "  tokenizer_input = pkl.load(f)\n",
    "with open('tokenizer_target.pkl','rb') as f:\n",
    "  tokenizer_target = pkl.load(f)\n",
    "# Creating the reverse mapping to get the word from the index in the sequence\n",
    "reverse_word_map_input = dict(map(reversed, tokenizer_input.word_index.items()))\n",
    "reverse_word_map_target = dict(map(reversed, tokenizer_target.word_index.items()))"
   ]
  },
  {
   "cell_type": "code",
   "execution_count": 52,
   "metadata": {},
   "outputs": [],
   "source": [
    "\n",
    "# Code to predct the input sentences translation\n",
    "def decode_seq(input_seq):\n",
    "  # print(\"input_seq=>\",input_seq)\n",
    "  state_values_encoder = encoder_model.predict(input_seq)\n",
    "  # intialize the target seq with start tag\n",
    "  target_seq = np.zeros((1,1))\n",
    "  target_seq[0, 0] = tokenizer_target.word_index['start']\n",
    "  # print(\"target_seq:=>\",target_seq)\n",
    "  stop_condition = False\n",
    "  decoder_sentance = ''\n",
    "  # print(\"Beforee the while loop\")\n",
    "  while not stop_condition:\n",
    "    sample_word , decoder_h,decoder_c= decoder_model.predict([target_seq] + state_values_encoder)\n",
    "    # print(\"sample_word: =>\",sample_word)\n",
    "    sample_word_index = np.argmax(sample_word[0,-1,:])\n",
    "    # print(\"sample_word_index: \",sample_word_index)\n",
    "    decoder_word = reverse_word_map_target[sample_word_index]\n",
    "    decoder_sentance += ' '+ decoder_word\n",
    "    # print(\"decoded word:=>\",decoder_word)\n",
    "    # print(len(decoder_sentance))\n",
    "    # print(\"len(decoder_sentance) > 70: \",len(decoder_sentance) > 70)\n",
    "    # print('decoder_word == \"end\"',decoder_word == 'end')\n",
    "    # print(decoder_word == 'end' or len(decoder_sentance) > 70)\n",
    "    # stop condition for the while loop\n",
    "    if (decoder_word == 'end' or \n",
    "        len(decoder_sentance) > 70):\n",
    "        stop_condition = True\n",
    "        # print(\"from if condition\")\n",
    "    # target_seq = np.zeros((1,1))\n",
    "    target_seq[0, 0] = sample_word_index\n",
    "    # print(target_seq)\n",
    "    state_values_encoder = [decoder_h,decoder_c]\n",
    "  return decoder_sentance"
   ]
  },
  {
   "cell_type": "code",
   "execution_count": 56,
   "metadata": {
    "scrolled": true
   },
   "outputs": [
    {
     "name": "stdout",
     "output_type": "stream",
     "text": [
      "Test sentance:  1\n",
      "sentance:  i arrived two weeks ago\n",
      "origianl translate: मी दोन आठवड्यांपूर्वी पोहोचलो\n",
      "predicted Translate:  मी दोन तास घर\n",
      "====================================================================================================\n",
      "Test sentance:  2\n",
      "sentance:  i came to japan two years ago\n",
      "origianl translate: मी दोन वर्षांपूर्वी जपानला आले\n",
      "predicted Translate:  मी दोन वाजता इथे होते\n",
      "====================================================================================================\n",
      "Test sentance:  3\n",
      "sentance:  tom decided to enter the room\n",
      "origianl translate: टॉमने खोलीत प्रवेश करायचा निर्णय घेतला\n",
      "predicted Translate:  टॉमने एका बँकेत अभ्यास केला नाही\n",
      "====================================================================================================\n",
      "Test sentance:  4\n",
      "sentance:  ill see you later\n",
      "origianl translate: नंतर भेटू\n",
      "predicted Translate:  मी तुला गोळी मारली\n",
      "====================================================================================================\n",
      "Test sentance:  5\n",
      "sentance:  what do they know\n",
      "origianl translate: त्यांना काय माहीत आहे\n",
      "predicted Translate:  ते काय कुठे\n",
      "====================================================================================================\n",
      "Test sentance:  6\n",
      "sentance:  she is gaining weight\n",
      "origianl translate: तिचं वजन वाढत आहे\n",
      "predicted Translate:  ती वजन भरपूर वेळ आहे\n",
      "====================================================================================================\n",
      "Test sentance:  7\n",
      "sentance:  do you want your friend back\n",
      "origianl translate: तुम्हाला तुमचा मित्र परत हवा आहे का\n",
      "predicted Translate:  तुला तुझी गाडी पुस्तक होतं का\n",
      "====================================================================================================\n",
      "Test sentance:  8\n",
      "sentance:  tom is on night duty tonight\n",
      "origianl translate: टॉम आज रात्री रात्रीच्या ड्यूटीवर आहे\n",
      "predicted Translate:  टॉम रात्री माझी रात्री दुरुस्त करू का\n",
      "====================================================================================================\n",
      "Test sentance:  9\n",
      "sentance:  tom pushed mary into the elevator\n",
      "origianl translate: टॉमने मेरीला लिफ्टमध्ये धकललं\n",
      "predicted Translate:  टॉमने मेरीला मारलं का\n",
      "====================================================================================================\n",
      "Test sentance:  10\n",
      "sentance:  he came back after two hours\n",
      "origianl translate: ते दोन तासांनंतर परतले\n",
      "predicted Translate:  तो एका तास बघत आहोत\n",
      "====================================================================================================\n",
      "Test sentance:  11\n",
      "sentance:  is that your sister\n",
      "origianl translate: त्या तुमची बहीण आहेत का\n",
      "predicted Translate:  त्या तुझी बहीण आहे का\n",
      "====================================================================================================\n",
      "Test sentance:  12\n",
      "sentance:  im not going to show you\n",
      "origianl translate: मी तुम्हाला दाखवणार नाहीये\n",
      "predicted Translate:  मी तुला थांबवू शकत नाही\n",
      "====================================================================================================\n",
      "Test sentance:  13\n",
      "sentance:  ill shoot you\n",
      "origianl translate: मी तुला शूट करते\n",
      "predicted Translate:  मी तुला गोळी मारली\n",
      "====================================================================================================\n",
      "Test sentance:  14\n",
      "sentance:  wheres my family\n",
      "origianl translate: माझं कुटुंब कुठेय\n",
      "predicted Translate:  माझी आई कुठेय\n",
      "====================================================================================================\n",
      "Test sentance:  15\n",
      "sentance:  tom has finally forgiven me\n",
      "origianl translate: शेवटी मला टॉमने माफ केलं आहे\n",
      "predicted Translate:  टॉम मेरीला माझी करू शकतो का\n",
      "====================================================================================================\n",
      "Test sentance:  16\n",
      "sentance:  whats your favorite color\n",
      "origianl translate: तुझा आवडता रंग कोणता आहे\n",
      "predicted Translate:  तुझा आवडता सर्वात मोठा आहे\n",
      "====================================================================================================\n",
      "Test sentance:  17\n",
      "sentance:  there is much that is good in the world\n",
      "origianl translate: जगात चांगलं असं भरपूर काही काही\n",
      "predicted Translate:  तो आहे जपानी आहे\n",
      "====================================================================================================\n",
      "Test sentance:  18\n",
      "sentance:  there are many pictures in this book\n",
      "origianl translate: या पुस्तकात पुष्कळ चित्र आहेत\n",
      "predicted Translate:  हे तू काम आठवण येते\n",
      "====================================================================================================\n",
      "Test sentance:  19\n",
      "sentance:  i didnt shout at tom\n",
      "origianl translate: मी टॉमवर ओरडलो नाही\n",
      "predicted Translate:  मी टॉमला बघितलं नाही\n",
      "====================================================================================================\n",
      "Test sentance:  20\n",
      "sentance:  wheres your bathroom\n",
      "origianl translate: तुझं बाथरुम कुठे आहे\n",
      "predicted Translate:  तुझा कुठे मांजर आहे\n",
      "====================================================================================================\n",
      "Test sentance:  21\n",
      "sentance:  i dont want to talk about tom\n",
      "origianl translate: मला टॉमबद्दल बोलायचं नाहीये\n",
      "predicted Translate:  मला टॉमशी बोलायचं नाहीये\n",
      "====================================================================================================\n",
      "Test sentance:  22\n",
      "sentance:  the house is burning\n",
      "origianl translate: ते घर जळतंय\n",
      "predicted Translate:  घर कोणी लिहिलं\n",
      "====================================================================================================\n",
      "Test sentance:  23\n",
      "sentance:  the plane didnt stop at new york\n",
      "origianl translate: विमान न्यूयॉर्कला थांबलं नाही\n",
      "predicted Translate:  टॉमने द्या हे घरी आला\n",
      "====================================================================================================\n",
      "Test sentance:  24\n",
      "sentance:  have you seen tom\n",
      "origianl translate: तुम्ही टॉमला पाहिलं आहे का\n",
      "predicted Translate:  टॉमला तुला गोळी मारली\n",
      "====================================================================================================\n",
      "Test sentance:  25\n",
      "sentance:  tom likes his school a lot\n",
      "origianl translate: टॉमला त्याची शाळा खूप आवडते\n",
      "predicted Translate:  टॉमला आपल्या मित्र आहेत का\n",
      "====================================================================================================\n",
      "Test sentance:  26\n",
      "sentance:  the candle smells nice\n",
      "origianl translate: मेणबत्तीचा वास चांगला आहे\n",
      "predicted Translate:  मोठा तयार करतोय\n",
      "====================================================================================================\n",
      "Test sentance:  27\n",
      "sentance:  cars are expensive\n",
      "origianl translate: गाड्या महाग असतात\n",
      "predicted Translate:  खूप तयार आहेत\n",
      "====================================================================================================\n",
      "Test sentance:  28\n",
      "sentance:  hold the ball in both hands\n",
      "origianl translate: हा चेंडू दोन्ही हातांनी धर\n",
      "predicted Translate:  अचानक त्याने दोन मदत आहेत\n",
      "====================================================================================================\n",
      "Test sentance:  29\n",
      "sentance:  my little sister doesnt like the taste of cottage cheese\n",
      "origianl translate: माझ्या छोट्या बहिणीला पनीरची चव आवडत नाही\n",
      "predicted Translate:  माझ्या छोट्या कोण तर माझा करायला शकतो हे टॉमला माहीत आहे\n",
      "====================================================================================================\n",
      "Test sentance:  30\n",
      "sentance:  kiss tom\n",
      "origianl translate: टॉमला किस कर\n",
      "predicted Translate:  टॉमला काय\n",
      "====================================================================================================\n",
      "Test sentance:  31\n",
      "sentance:  my grandmother told me the story of cinderella\n",
      "origianl translate: आजीने मला सिंड्रेलाची गोष्ट सांगितली\n",
      "predicted Translate:  माझ्या माझ्या मुलाला काहीही करू शकत नाही\n",
      "====================================================================================================\n",
      "Test sentance:  32\n",
      "sentance:  why did tom leave you\n",
      "origianl translate: टॉमने तुला का सोडलं\n",
      "predicted Translate:  टॉम का टॉम कशाला\n",
      "====================================================================================================\n",
      "Test sentance:  33\n",
      "sentance:  that house with a red roof is my uncles\n",
      "origianl translate: ते लाल छत असलेलं घर माझ्या काकांचं आहे\n",
      "predicted Translate:  माझ्या घरात घर आहे ते सर्व काही वर्ष राहिला\n",
      "====================================================================================================\n"
     ]
    },
    {
     "name": "stdout",
     "output_type": "stream",
     "text": [
      "Test sentance:  34\n",
      "sentance:  tom is not in prison at the moment\n",
      "origianl translate: टॉम सध्या तुरुंगात नाही आहे\n",
      "predicted Translate:  टॉम एका होता हे काल आवडत नाही\n",
      "====================================================================================================\n",
      "Test sentance:  35\n",
      "sentance:  are you their mother\n",
      "origianl translate: तू त्यांची आई आहेस का\n",
      "predicted Translate:  तू अगदी बँकेत काम करू\n",
      "====================================================================================================\n",
      "Test sentance:  36\n",
      "sentance:  he likes country music\n",
      "origianl translate: त्याला कंट्री संगीत आवडतं\n",
      "predicted Translate:  त्याला संगीत आवडतं\n",
      "====================================================================================================\n",
      "Test sentance:  37\n",
      "sentance:  you werent there\n",
      "origianl translate: तू तिथे नव्हतीस\n",
      "predicted Translate:  तू तिथे नाही\n",
      "====================================================================================================\n",
      "Test sentance:  38\n",
      "sentance:  were all ok\n",
      "origianl translate: आपण सगळे ठीक आहोत\n",
      "predicted Translate:  सगळे आपण हसत होते\n",
      "====================================================================================================\n",
      "Test sentance:  39\n",
      "sentance:  what do you like about it\n",
      "origianl translate: त्याबद्दल तुला काय आवडलं\n",
      "predicted Translate:  तुला काय आवडतं\n",
      "====================================================================================================\n",
      "Test sentance:  40\n",
      "sentance:  i think we can finish this later\n",
      "origianl translate: मला वाटतं आपण हे नंतर पूर्ण करू शकतो\n",
      "predicted Translate:  मी तुला वाटतं टॉम तर खूपच चालू करा\n",
      "====================================================================================================\n",
      "Test sentance:  41\n",
      "sentance:  i dont remember her name\n",
      "origianl translate: मला तिचं नाव आठवत नाही\n",
      "predicted Translate:  मला त्याचं नाव माहीत आहे\n",
      "====================================================================================================\n",
      "Test sentance:  42\n",
      "sentance:  what happened to your face\n",
      "origianl translate: तुमच्या चेहर्याला काय झालं\n",
      "predicted Translate:  तुझ्या म्हणाला का\n",
      "====================================================================================================\n",
      "Test sentance:  43\n",
      "sentance:  i play the guitar after dinner\n",
      "origianl translate: मी जेवणानंतर गिटार वाजवते\n",
      "predicted Translate:  मी दोन बॉस्टनला गेला\n",
      "====================================================================================================\n",
      "Test sentance:  44\n",
      "sentance:  the bridge connects the two cities\n",
      "origianl translate: तो पूल त्या दोन शहरांना जोडतो\n",
      "predicted Translate:  एक देश कोणी आहे\n",
      "====================================================================================================\n",
      "Test sentance:  45\n",
      "sentance:  why do you suspect me\n",
      "origianl translate: तुमचा माझ्यावर संशय का आहे\n",
      "predicted Translate:  तू माझ्या का नाही\n",
      "====================================================================================================\n",
      "Test sentance:  46\n",
      "sentance:  tom finally stopped laughing\n",
      "origianl translate: टॉमने शेवटी हसणं थांबवलं\n",
      "predicted Translate:  टॉम ती कधीच रडत होता\n",
      "====================================================================================================\n",
      "Test sentance:  47\n",
      "sentance:  whats the bad news\n",
      "origianl translate: वाईट बातमी काय आहे\n",
      "predicted Translate:  ती सर्वात गोष्ट गरम आहे\n",
      "====================================================================================================\n",
      "Test sentance:  48\n",
      "sentance:  she took her own life\n",
      "origianl translate: तिने स्वतःचं जीव घेतलं\n",
      "predicted Translate:  तिने त्याला घ्यायला कॉफी\n",
      "====================================================================================================\n",
      "Test sentance:  49\n",
      "sentance:  tom cant play tennis\n",
      "origianl translate: टॉम टेनिस खेळू शकत नाही\n",
      "predicted Translate:  टॉम टेनिस खेळता येत नाही\n",
      "====================================================================================================\n",
      "Test sentance:  50\n",
      "sentance:  dont tell tom where i live\n",
      "origianl translate: मी कुठे राहते हे टॉमला सांगू नकोस\n",
      "predicted Translate:  टॉम माहीत आहे हे रात्री सांगितलं\n",
      "====================================================================================================\n",
      "Test sentance:  51\n",
      "sentance:  tom tried to warn everyone\n",
      "origianl translate: टॉमने सगळ्यांना सावध करायचा प्रयत्न केला\n",
      "predicted Translate:  टॉमने प्रयत्न केला प्रयत्न करत आहोत\n",
      "====================================================================================================\n",
      "Test sentance:  52\n",
      "sentance:  they cant stop you\n",
      "origianl translate: त्या तुला थांबवू शकत नाहीत\n",
      "predicted Translate:  ते तुला थांबवू शकत नाही\n",
      "====================================================================================================\n",
      "Test sentance:  53\n",
      "sentance:  tom began to snore\n",
      "origianl translate: टॉमने घोरायला सुरुवात केली\n",
      "predicted Translate:  टॉम सुरुवात केली\n",
      "====================================================================================================\n",
      "Test sentance:  54\n",
      "sentance:  i call tom almost every evening\n",
      "origianl translate: टॉमला मी जवळजवळ प्रत्येक संध्याकाळी फोन करतो\n",
      "predicted Translate:  मी टॉमशी घरी मी दररोज राहिला\n",
      "====================================================================================================\n",
      "Test sentance:  55\n",
      "sentance:  may i see the telephone directory\n",
      "origianl translate: मला जरा दूरध्वनी निर्देशिका बघायला मिळेल का\n",
      "predicted Translate:  मी फोन करून या नाही आहेत का\n",
      "====================================================================================================\n",
      "Test sentance:  56\n",
      "sentance:  drink some tea\n",
      "origianl translate: जरासा चहा पी\n",
      "predicted Translate:  चहा गरम आहे\n",
      "====================================================================================================\n",
      "Test sentance:  57\n",
      "sentance:  when do you write\n",
      "origianl translate: तू लिहितोस कधी\n",
      "predicted Translate:  तू कधी आहेस\n",
      "====================================================================================================\n",
      "Test sentance:  58\n",
      "sentance:  dont forget me\n",
      "origianl translate: मला विसरू नकोस\n",
      "predicted Translate:  मला विसरू नका\n",
      "====================================================================================================\n",
      "Test sentance:  59\n",
      "sentance:  they began to climb the hill\n",
      "origianl translate: ते टेकडीवर चढू लागले\n",
      "predicted Translate:  त्यांनी केली\n",
      "====================================================================================================\n",
      "Test sentance:  60\n",
      "sentance:  did tom do this\n",
      "origianl translate: हे टॉमने केलं का\n",
      "predicted Translate:  टॉम ते का\n",
      "====================================================================================================\n",
      "Test sentance:  61\n",
      "sentance:  we ran after the thief\n",
      "origianl translate: आम्ही चोराच्या पाठोपाठ धावलो\n",
      "predicted Translate:  आपण तिथे वाट बाहेर होतो\n",
      "====================================================================================================\n",
      "Test sentance:  62\n",
      "sentance:  theyre there alone\n",
      "origianl translate: ते तिथे एकटे आहेत\n",
      "predicted Translate:  ते तिथे परत आहेत\n",
      "====================================================================================================\n",
      "Test sentance:  63\n",
      "sentance:  when will that change\n",
      "origianl translate: ते कधी बदलेल\n",
      "predicted Translate:  ते कधी आहेत\n",
      "====================================================================================================\n",
      "Test sentance:  64\n",
      "sentance:  well all go together\n",
      "origianl translate: आम्ही सर्व एकत्र जाऊ\n",
      "predicted Translate:  आपण एकत्र परत गेले\n",
      "====================================================================================================\n",
      "Test sentance:  65\n",
      "sentance:  keep the window closed\n",
      "origianl translate: खिडकी बंदच ठेव\n",
      "predicted Translate:  खिडकी बंद करा\n",
      "====================================================================================================\n",
      "Test sentance:  66\n",
      "sentance:  give me a ride\n",
      "origianl translate: मला लिफ्ट द्या\n",
      "predicted Translate:  मला एक दे\n",
      "====================================================================================================\n",
      "Test sentance:  67\n",
      "sentance:  which program did you watch yesterday\n",
      "origianl translate: काल कोणता प्रोग्राम बघितलात\n",
      "predicted Translate:  काल तू तुला काही करू या\n",
      "====================================================================================================\n"
     ]
    },
    {
     "name": "stdout",
     "output_type": "stream",
     "text": [
      "Test sentance:  68\n",
      "sentance:  he was angry with his daughter\n",
      "origianl translate: तो त्याच्या मुलीवर रागावला होता\n",
      "predicted Translate:  तो त्याच्या आपले वाट बघत आहोत\n",
      "====================================================================================================\n",
      "Test sentance:  69\n",
      "sentance:  its time for the news on channel\n",
      "origianl translate: चॅनल  वर आता बातम्यांची वेळ झाली आहे\n",
      "predicted Translate:  झाला आहे हे तुला माहीत आहे\n",
      "====================================================================================================\n",
      "Test sentance:  70\n",
      "sentance:  im saving money for a car\n",
      "origianl translate: मी गाडी विकत घेण्यासाठी पैसे वाचवतोय\n",
      "predicted Translate:  मी गाडी एक पैसे ही कुठे आहे\n",
      "====================================================================================================\n",
      "Test sentance:  71\n",
      "sentance:  who are you\n",
      "origianl translate: तुम्ही कोण आहात\n",
      "predicted Translate:  तू कोण आहेस\n",
      "====================================================================================================\n",
      "Test sentance:  72\n",
      "sentance:  did you take my car keys\n",
      "origianl translate: तुम्ही माझ्या गाडीच्या चाव्या घेतल्या होत्या का\n",
      "predicted Translate:  तू माझ्या घरात गाडी वाजवता का\n",
      "====================================================================================================\n",
      "Test sentance:  73\n",
      "sentance:  tom does not like cheese\n",
      "origianl translate: टॉमला चीज आवडत नाही\n",
      "predicted Translate:  टॉमला आवडत नाही\n",
      "====================================================================================================\n",
      "Test sentance:  74\n",
      "sentance:  what did you say\n",
      "origianl translate: काय म्हणालात\n",
      "predicted Translate:  काय काय\n",
      "====================================================================================================\n",
      "Test sentance:  75\n",
      "sentance:  my comment was deleted\n",
      "origianl translate: माझा कॉमेंट डिलीट करण्यात आला\n",
      "predicted Translate:  माझा करून एक वाट बघत नव्हते\n",
      "====================================================================================================\n",
      "Test sentance:  76\n",
      "sentance:  give me a cup of coffee\n",
      "origianl translate: मला एक कप कॉफी द्या\n",
      "predicted Translate:  मला एक कप कॉफी द्या\n",
      "====================================================================================================\n",
      "Test sentance:  77\n",
      "sentance:  you were mine\n",
      "origianl translate: तू माझी होतीस\n",
      "predicted Translate:  तू माझी करू\n",
      "====================================================================================================\n",
      "Test sentance:  78\n",
      "sentance:  he sat down by my side\n",
      "origianl translate: तो माझ्या बाजूला बसला\n",
      "predicted Translate:  तो माझ्या बाजूला बसला\n",
      "====================================================================================================\n",
      "Test sentance:  79\n",
      "sentance:  i just posted a great picture of wombats on flickr\n",
      "origianl translate: मी आत्ताच वॉम्बॅटांचं एक मस्त चित्र फ्लिकरवर पोस्ट केलंय\n",
      "predicted Translate:  मी एक एक सर्वात झालं आहे व पाणी कोण आहे\n",
      "====================================================================================================\n",
      "Test sentance:  80\n",
      "sentance:  tom has done that several times\n",
      "origianl translate: टॉमने तसं अनेकदा केलं आहे\n",
      "predicted Translate:  टॉमने तसं करायला नोकरी मित्र आहे\n",
      "====================================================================================================\n",
      "Test sentance:  81\n",
      "sentance:  i brought you some flowers\n",
      "origianl translate: मी तुमच्यासाठी काही फुलं आणली\n",
      "predicted Translate:  मी तुझ्यासाठी फुलं विकत घ्यायची आहे\n",
      "====================================================================================================\n",
      "Test sentance:  82\n",
      "sentance:  do you have toms address\n",
      "origianl translate: तुझ्याकडे टॉमचा पत्ता आहे का\n",
      "predicted Translate:  तुला टॉमचा पत्ता आहे का\n",
      "====================================================================================================\n",
      "Test sentance:  83\n",
      "sentance:  lets stay here tonight\n",
      "origianl translate: आज रात्री इथेच थांबू या\n",
      "predicted Translate:  आज रात्री इथे जाऊ या\n",
      "====================================================================================================\n",
      "Test sentance:  84\n",
      "sentance:  everyones looking at us\n",
      "origianl translate: सगळ्या आमच्याकडे बघत आहेत\n",
      "predicted Translate:  सगळे त्या बघत आहेत\n",
      "====================================================================================================\n",
      "Test sentance:  85\n",
      "sentance:  anyone could do that\n",
      "origianl translate: ते तर कोणीही करू शकतं\n",
      "predicted Translate:  ते का नाही\n",
      "====================================================================================================\n"
     ]
    }
   ],
   "source": [
    "for i in range(85):\n",
    "  sentance = X_test[i]\n",
    "  original_target = y_test[i]\n",
    "  input_seq = tokenizer_input.texts_to_sequences([sentance])\n",
    "  pad_sequence = pad_sequences(input_seq, maxlen= 60, padding='post')\n",
    "  # print('input_sequence =>',input_seq)\n",
    "  # print(\"pad_seq=>\",pad_sequence)\n",
    "  predicted_target = decode_seq(pad_sequence)\n",
    "  print(\"Test sentance: \",i+1)\n",
    "  print(\"sentance: \",sentance)\n",
    "  print(\"origianl translate:\",original_target[6:-4])\n",
    "  print(\"predicted Translate:\",predicted_target[:-4])\n",
    "  print(\"==\"*50)"
   ]
  },
  {
   "cell_type": "code",
   "execution_count": null,
   "metadata": {},
   "outputs": [],
   "source": []
  }
 ],
 "metadata": {
  "kernelspec": {
   "display_name": "Python 3",
   "language": "python",
   "name": "python3"
  },
  "language_info": {
   "codemirror_mode": {
    "name": "ipython",
    "version": 3
   },
   "file_extension": ".py",
   "mimetype": "text/x-python",
   "name": "python",
   "nbconvert_exporter": "python",
   "pygments_lexer": "ipython3",
   "version": "3.6.9"
  }
 },
 "nbformat": 4,
 "nbformat_minor": 2
}
